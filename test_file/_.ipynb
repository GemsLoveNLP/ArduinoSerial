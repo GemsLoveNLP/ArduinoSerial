{
 "cells": [
  {
   "cell_type": "code",
   "execution_count": 1,
   "metadata": {},
   "outputs": [],
   "source": [
    "import platform"
   ]
  },
  {
   "cell_type": "code",
   "execution_count": 2,
   "metadata": {},
   "outputs": [
    {
     "data": {
      "text/plain": [
       "'Windows'"
      ]
     },
     "execution_count": 2,
     "metadata": {},
     "output_type": "execute_result"
    }
   ],
   "source": [
    "platform.system()"
   ]
  },
  {
   "cell_type": "code",
   "execution_count": null,
   "metadata": {},
   "outputs": [],
   "source": [
    "x=\"\"\"Set Angle: 0 | Analog Read: 59\n",
    "Set Angle: 30 | Analog Read: 138\n",
    "Set Angle: 60 | Analog Read: 217\n",
    "Set Angle: 90 | Analog Read: 298\n",
    "Set Angle: 120 | Analog Read: 374\n",
    "Set Angle: 150 | Analog Read: 454\n",
    "Set Angle: 180 | Analog Read: 532\n",
    "Set Angle: 0 | Analog Read: 62\n",
    "Set Angle: 30 | Analog Read: 139\n",
    "Set Angle: 60 | Analog Read: 217\n",
    "Set Angle: 90 | Analog Read: 298\n",
    "Set Angle: 120 | Analog Read: 377\n",
    "Set Angle: 150 | Analog Read: 453\n",
    "Set Angle: 180 | Analog Read: 532\n",
    "Set Angle: 0 | Analog Read: 59\n",
    "Set Angle: 30 | Analog Read: 139\n",
    "Set Angle: 60 | Analog Read: 218\n",
    "Set Angle: 90 | Analog Read: 296\n",
    "Set Angle: 120 | Analog Read: 375\n",
    "Set Angle: 150 | Analog Read: 454\n",
    "Set Angle: 180 | Analog Read: 534\"\"\""
   ]
  },
  {
   "cell_type": "code",
   "execution_count": 10,
   "metadata": {},
   "outputs": [
    {
     "data": {
      "text/plain": [
       "[59,\n",
       " 138,\n",
       " 217,\n",
       " 298,\n",
       " 374,\n",
       " 454,\n",
       " 532,\n",
       " 62,\n",
       " 139,\n",
       " 217,\n",
       " 298,\n",
       " 377,\n",
       " 453,\n",
       " 532,\n",
       " 59,\n",
       " 139,\n",
       " 218,\n",
       " 296,\n",
       " 375]"
      ]
     },
     "execution_count": 10,
     "metadata": {},
     "output_type": "execute_result"
    }
   ],
   "source": [
    "l = [int(i.split(\":\")[2][1:]) for i in x.split(\"\\n\")]\n",
    "l"
   ]
  },
  {
   "cell_type": "code",
   "execution_count": 12,
   "metadata": {},
   "outputs": [
    {
     "data": {
      "text/plain": [
       "[[59, 138, 217, 298, 374, 454, 532],\n",
       " [532, 62, 139, 217, 298, 377, 453],\n",
       " [453, 532, 59, 139, 218, 296, 375],\n",
       " [375]]"
      ]
     },
     "execution_count": 12,
     "metadata": {},
     "output_type": "execute_result"
    }
   ],
   "source": [
    "l2 = [l[i:i+7] for i in range(0, len(l), 6)]\n",
    "l2"
   ]
  },
  {
   "cell_type": "code",
   "execution_count": null,
   "metadata": {},
   "outputs": [],
   "source": []
  }
 ],
 "metadata": {
  "kernelspec": {
   "display_name": "base",
   "language": "python",
   "name": "python3"
  },
  "language_info": {
   "codemirror_mode": {
    "name": "ipython",
    "version": 3
   },
   "file_extension": ".py",
   "mimetype": "text/x-python",
   "name": "python",
   "nbconvert_exporter": "python",
   "pygments_lexer": "ipython3",
   "version": "3.9.13"
  }
 },
 "nbformat": 4,
 "nbformat_minor": 2
}
